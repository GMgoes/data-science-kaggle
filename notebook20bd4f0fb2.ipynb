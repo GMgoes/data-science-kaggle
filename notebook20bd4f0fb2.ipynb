{
 "cells": [
  {
   "cell_type": "code",
   "execution_count": 1,
   "id": "7782f495",
   "metadata": {
    "_cell_guid": "b1076dfc-b9ad-4769-8c92-a6c4dae69d19",
    "_uuid": "8f2839f25d086af736a60e9eeb907d3b93b6e0e5",
    "execution": {
     "iopub.execute_input": "2023-06-21T20:11:38.436067Z",
     "iopub.status.busy": "2023-06-21T20:11:38.435201Z",
     "iopub.status.idle": "2023-06-21T20:11:40.595227Z",
     "shell.execute_reply": "2023-06-21T20:11:40.594033Z"
    },
    "papermill": {
     "duration": 2.167587,
     "end_time": "2023-06-21T20:11:40.598111",
     "exception": false,
     "start_time": "2023-06-21T20:11:38.430524",
     "status": "completed"
    },
    "tags": []
   },
   "outputs": [
    {
     "name": "stdout",
     "output_type": "stream",
     "text": [
      "OK\n"
     ]
    }
   ],
   "source": [
    "from imblearn.under_sampling import RandomUnderSampler\n",
    "from imblearn.over_sampling import RandomOverSampler\n",
    "from sklearn.model_selection import train_test_split\n",
    "from imblearn.over_sampling import SMOTE\n",
    "import pandas as pd\n",
    "import numpy as np\n",
    "import os\n",
    "print('OK');"
   ]
  },
  {
   "cell_type": "code",
   "execution_count": 2,
   "id": "bd537fb1",
   "metadata": {
    "execution": {
     "iopub.execute_input": "2023-06-21T20:11:40.605751Z",
     "iopub.status.busy": "2023-06-21T20:11:40.605059Z",
     "iopub.status.idle": "2023-06-21T20:11:45.149120Z",
     "shell.execute_reply": "2023-06-21T20:11:45.147903Z"
    },
    "papermill": {
     "duration": 4.550915,
     "end_time": "2023-06-21T20:11:45.151854",
     "exception": false,
     "start_time": "2023-06-21T20:11:40.600939",
     "status": "completed"
    },
    "tags": []
   },
   "outputs": [
    {
     "name": "stdout",
     "output_type": "stream",
     "text": [
      "OK\n"
     ]
    }
   ],
   "source": [
    "df = pd.read_csv('/kaggle/input/creditcardfraud/creditcard.csv', delimiter=','); # nrows = 284807 (Quantas linhas quisermos, default = Todas)\n",
    "df.dataframeName = 'creditcard.csv';\n",
    "# print(df.head(5));\n",
    "# print(df.shape);\n",
    "# print(df.describe());\n",
    "print('OK');"
   ]
  },
  {
   "cell_type": "code",
   "execution_count": 3,
   "id": "a28867fb",
   "metadata": {
    "execution": {
     "iopub.execute_input": "2023-06-21T20:11:45.158397Z",
     "iopub.status.busy": "2023-06-21T20:11:45.157977Z",
     "iopub.status.idle": "2023-06-21T20:11:45.163163Z",
     "shell.execute_reply": "2023-06-21T20:11:45.161923Z"
    },
    "papermill": {
     "duration": 0.011596,
     "end_time": "2023-06-21T20:11:45.165973",
     "exception": false,
     "start_time": "2023-06-21T20:11:45.154377",
     "status": "completed"
    },
    "tags": []
   },
   "outputs": [],
   "source": [
    "# Raj Kumar - Explicação e interpretação das classes\n",
    "# fraud = df[df['Class'] == 1];\n",
    "# valid = df[df['Class'] == 0];\n",
    "# outlierFraction = len(fraud)/float(len(valid));\n",
    "# print(outlierFraction);\n",
    "# print('Fraud Cases: {}'.format(len(df[df['Class'] == 1])));\n",
    "# print('Valid Transactions: {}'.format(len(df[df['Class'] == 0])));\n",
    "# print(\"Amount details of the fraudulent transaction\");\n",
    "# fraud.Amount.describe();"
   ]
  },
  {
   "cell_type": "markdown",
   "id": "6307945f",
   "metadata": {
    "papermill": {
     "duration": 0.00211,
     "end_time": "2023-06-21T20:11:45.170708",
     "exception": false,
     "start_time": "2023-06-21T20:11:45.168598",
     "status": "completed"
    },
    "tags": []
   },
   "source": [
    "References:\n",
    "https://www.kaggle.com/code/rajkumarpandey02/ml-credit-card-fraud-detection"
   ]
  },
  {
   "cell_type": "code",
   "execution_count": 4,
   "id": "15cc41b8",
   "metadata": {
    "execution": {
     "iopub.execute_input": "2023-06-21T20:11:45.177247Z",
     "iopub.status.busy": "2023-06-21T20:11:45.176808Z",
     "iopub.status.idle": "2023-06-21T20:11:45.238411Z",
     "shell.execute_reply": "2023-06-21T20:11:45.236937Z"
    },
    "papermill": {
     "duration": 0.068365,
     "end_time": "2023-06-21T20:11:45.241359",
     "exception": false,
     "start_time": "2023-06-21T20:11:45.172994",
     "status": "completed"
    },
    "tags": []
   },
   "outputs": [],
   "source": [
    "X = df.drop(['Class'], axis = 1)\n",
    "#print(X)\n",
    "y = df[\"Class\"]\n",
    "#print(y)"
   ]
  }
 ],
 "metadata": {
  "kernelspec": {
   "display_name": "Python 3",
   "language": "python",
   "name": "python3"
  },
  "language_info": {
   "codemirror_mode": {
    "name": "ipython",
    "version": 3
   },
   "file_extension": ".py",
   "mimetype": "text/x-python",
   "name": "python",
   "nbconvert_exporter": "python",
   "pygments_lexer": "ipython3",
   "version": "3.10.10"
  },
  "papermill": {
   "default_parameters": {},
   "duration": 18.67727,
   "end_time": "2023-06-21T20:11:46.367988",
   "environment_variables": {},
   "exception": null,
   "input_path": "__notebook__.ipynb",
   "output_path": "__notebook__.ipynb",
   "parameters": {},
   "start_time": "2023-06-21T20:11:27.690718",
   "version": "2.4.0"
  }
 },
 "nbformat": 4,
 "nbformat_minor": 5
}
